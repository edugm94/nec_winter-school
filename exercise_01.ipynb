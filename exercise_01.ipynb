{
 "cells": [
  {
   "cell_type": "markdown",
   "metadata": {},
   "source": [
    "# NEC winter-school: first exercise"
   ]
  },
  {
   "cell_type": "markdown",
   "metadata": {},
   "source": [
    "This exercise aims to get familiar with working with images. During this exercise we will learn how to:\n",
    "1. Open images.\n",
    "2. Resize images.\n",
    "3. Color spaces.\n",
    "4. Convolution."
   ]
  },
  {
   "cell_type": "markdown",
   "metadata": {},
   "source": [
    "Before starting, we need to load the libraries that we are going to use."
   ]
  },
  {
   "cell_type": "code",
   "execution_count": 1,
   "metadata": {},
   "outputs": [],
   "source": [
    "from skimage.io import imread, imsave  # Reading and writing image functions\n",
    "from skimage.transform import resize   # Resizing operations\n",
    "import numpy as np                     # Basic array operation library\n",
    "import matplotlib.pyplot as plt        # For plotting and displaying\n",
    "%matplotlib inline"
   ]
  },
  {
   "cell_type": "markdown",
   "metadata": {},
   "source": [
    "## 1. Load an image"
   ]
  },
  {
   "cell_type": "markdown",
   "metadata": {},
   "source": [
    "Use the imread function to load the image \"Lenna-color.png\" into a variable called \"im\" and display it.\n",
    "\n",
    "Hint: use the web documentation to know how to use the \"imread\" function: https://scikit-image.org/docs/dev/api/skimage.io.html#skimage.io.imread\n",
    "\n",
    "Hint 2: to display it, use the funtion \"plt.imshow(im)\""
   ]
  },
  {
   "cell_type": "code",
   "execution_count": 1,
   "metadata": {},
   "outputs": [],
   "source": [
    "# Fill me with nice code :)\n",
    "\n",
    "\n",
    "# Plot funtion\n",
    "plt.imshow(im)"
   ]
  },
  {
   "cell_type": "markdown",
   "metadata": {},
   "source": [
    "## 2. Resize the image"
   ]
  },
  {
   "cell_type": "markdown",
   "metadata": {},
   "source": [
    "Display the shape of the \"im\" tensor."
   ]
  },
  {
   "cell_type": "code",
   "execution_count": null,
   "metadata": {},
   "outputs": [],
   "source": [
    "# Fill me with code\n"
   ]
  },
  {
   "cell_type": "markdown",
   "metadata": {},
   "source": [
    "Use the function \"resize\" to double the width of the image, and hold it into the variable \"im_2w\". Then print the shape of \"im_2w\" and display it.\n",
    "\n",
    "Hint: use the web documentation of the library to know the function arguments ;)"
   ]
  },
  {
   "cell_type": "code",
   "execution_count": null,
   "metadata": {},
   "outputs": [],
   "source": [
    "# Fill me with code\n"
   ]
  },
  {
   "cell_type": "markdown",
   "metadata": {},
   "source": [
    "## 3. Color spaces"
   ]
  },
  {
   "cell_type": "markdown",
   "metadata": {},
   "source": [
    "The color spaces are the way that the light is encoded into a pixel.\n",
    "\n",
    "Typically, the images are encoded in Red, Green, Blue (RGB) format, but there is a broad collection of color spaces that can be used (e.g.: HSL, CIELAB, YCbCr,...).\n",
    "\n",
    "Find more information at https://en.wikipedia.org/wiki/Color_space"
   ]
  },
  {
   "cell_type": "markdown",
   "metadata": {},
   "source": [
    "Decompose the image into its R, G, B channels and display them individually.\n",
    "\n",
    "Hint: to display the image as a gray scale image use the modifier \"cmap='gray'\" when you call \"plt.imshow\".\n",
    "Hint2: for a better visualization use the \"plt.subplot\" function."
   ]
  },
  {
   "cell_type": "code",
   "execution_count": null,
   "metadata": {},
   "outputs": [],
   "source": [
    "# Fill me with code\n"
   ]
  },
  {
   "cell_type": "markdown",
   "metadata": {},
   "source": [
    "Now try to invert the colors, and plot it.\n",
    "\n",
    "Hint: the pixel values are in the range of [0,255]."
   ]
  },
  {
   "cell_type": "code",
   "execution_count": null,
   "metadata": {},
   "outputs": [],
   "source": [
    "# Fill me with code\n"
   ]
  },
  {
   "cell_type": "markdown",
   "metadata": {},
   "source": [
    "Try to save the image."
   ]
  },
  {
   "cell_type": "code",
   "execution_count": null,
   "metadata": {},
   "outputs": [],
   "source": [
    "# Fill me with code\n"
   ]
  },
  {
   "cell_type": "markdown",
   "metadata": {},
   "source": [
    "Now convert your image into gray scale image."
   ]
  },
  {
   "cell_type": "code",
   "execution_count": null,
   "metadata": {},
   "outputs": [],
   "source": [
    "# Fill me with code\n",
    "\n"
   ]
  },
  {
   "cell_type": "markdown",
   "metadata": {},
   "source": [
    "## 4. Convolution"
   ]
  },
  {
   "cell_type": "markdown",
   "metadata": {},
   "source": [
    "In this exercise, we are going to warm up for CNN by creating a convolution filter and applying it to an image."
   ]
  },
  {
   "cell_type": "markdown",
   "metadata": {},
   "source": [
    "We are going to create a Sobel filter for detecting edges.\n",
    "\n",
    "Just create two matrix of [3x3] with the following values:\n",
    "\n",
    "x_filter = [[-1,0,1], [-2,0,2], [-1,0,1]]\n",
    "\n",
    "y_filter = [[-1,-2,-1], [0,0,0], [1,2,1]]\n",
    "\n",
    "Now plot them."
   ]
  },
  {
   "cell_type": "code",
   "execution_count": null,
   "metadata": {},
   "outputs": [],
   "source": [
    "# Fill me with code\n"
   ]
  },
  {
   "cell_type": "markdown",
   "metadata": {},
   "source": [
    "Import the library that applies a 2d convolution."
   ]
  },
  {
   "cell_type": "code",
   "execution_count": null,
   "metadata": {},
   "outputs": [],
   "source": [
    "from scipy.signal import convolve2d"
   ]
  },
  {
   "cell_type": "markdown",
   "metadata": {},
   "source": [
    "Apply the filters you previously created to the grayscale image. Display both outputs.\n",
    "\n",
    "Hint: here is the documentation https://docs.scipy.org/doc/scipy-0.15.1/reference/generated/scipy.signal.convolve2d.html"
   ]
  },
  {
   "cell_type": "code",
   "execution_count": null,
   "metadata": {},
   "outputs": [],
   "source": [
    "# Add code\n"
   ]
  },
  {
   "cell_type": "markdown",
   "metadata": {},
   "source": [
    "Extra: can you think about new filters?"
   ]
  },
  {
   "cell_type": "code",
   "execution_count": null,
   "metadata": {},
   "outputs": [],
   "source": []
  }
 ],
 "metadata": {
  "kernelspec": {
   "display_name": "Python 3",
   "language": "python",
   "name": "python3"
  },
  "language_info": {
   "codemirror_mode": {
    "name": "ipython",
    "version": 3
   },
   "file_extension": ".py",
   "mimetype": "text/x-python",
   "name": "python",
   "nbconvert_exporter": "python",
   "pygments_lexer": "ipython3",
   "version": "3.5.2"
  }
 },
 "nbformat": 4,
 "nbformat_minor": 2
}
